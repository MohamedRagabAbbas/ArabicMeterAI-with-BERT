{
 "cells": [
  {
   "cell_type": "code",
   "execution_count": 11,
   "id": "580afb58-dd7a-4221-822b-8eb861b45d05",
   "metadata": {},
   "outputs": [],
   "source": [
    "import pandas as pd"
   ]
  },
  {
   "cell_type": "code",
   "execution_count": 50,
   "id": "48222725",
   "metadata": {},
   "outputs": [],
   "source": [
    "Arabic_poem_reduced = pd.read_csv('Arabic_poem_reduced.csv')"
   ]
  },
  {
   "cell_type": "code",
   "execution_count": 51,
   "id": "4ca5ff6f",
   "metadata": {},
   "outputs": [
    {
     "data": {
      "text/html": [
       "<div>\n",
       "<style scoped>\n",
       "    .dataframe tbody tr th:only-of-type {\n",
       "        vertical-align: middle;\n",
       "    }\n",
       "\n",
       "    .dataframe tbody tr th {\n",
       "        vertical-align: top;\n",
       "    }\n",
       "\n",
       "    .dataframe thead th {\n",
       "        text-align: right;\n",
       "    }\n",
       "</style>\n",
       "<table border=\"1\" class=\"dataframe\">\n",
       "  <thead>\n",
       "    <tr style=\"text-align: right;\">\n",
       "      <th></th>\n",
       "      <th>العصر</th>\n",
       "      <th>الشاعر</th>\n",
       "      <th>الديوان</th>\n",
       "      <th>القافية</th>\n",
       "      <th>البحر</th>\n",
       "      <th>الشطر الايسر</th>\n",
       "      <th>الشطر الايمن</th>\n",
       "    </tr>\n",
       "  </thead>\n",
       "  <tbody>\n",
       "    <tr>\n",
       "      <th>0</th>\n",
       "      <td>قبل الإسلام</td>\n",
       "      <td>عمرو بنِ قُمَيئَة</td>\n",
       "      <td>الديوان الرئيسي</td>\n",
       "      <td>د</td>\n",
       "      <td>الطويل</td>\n",
       "      <td>وَأَن تَجمَعا شَملي وَتَنتَظِرا غَدا</td>\n",
       "      <td>خَليلَيَّ لا تَستَعجِلا أَن تَزَوَّدا</td>\n",
       "    </tr>\n",
       "    <tr>\n",
       "      <th>1</th>\n",
       "      <td>قبل الإسلام</td>\n",
       "      <td>عمرو بنِ قُمَيئَة</td>\n",
       "      <td>الديوان الرئيسي</td>\n",
       "      <td>د</td>\n",
       "      <td>الطويل</td>\n",
       "      <td>وَلا سُرعَتي يَوماً بِسابِقَةِ الرَدى</td>\n",
       "      <td>فَما لَبَثٌ يَوماً بِسابِقٍ مَغنَمٍ</td>\n",
       "    </tr>\n",
       "    <tr>\n",
       "      <th>2</th>\n",
       "      <td>قبل الإسلام</td>\n",
       "      <td>عمرو بنِ قُمَيئَة</td>\n",
       "      <td>الديوان الرئيسي</td>\n",
       "      <td>د</td>\n",
       "      <td>الطويل</td>\n",
       "      <td>وَتَستَوجِبا مَنّاً عَلَيَّ وَتُحمَدا</td>\n",
       "      <td>وَإِن تُنظِراني اليَومَ أَقضِ لُبانَةً</td>\n",
       "    </tr>\n",
       "    <tr>\n",
       "      <th>3</th>\n",
       "      <td>قبل الإسلام</td>\n",
       "      <td>عمرو بنِ قُمَيئَة</td>\n",
       "      <td>الديوان الرئيسي</td>\n",
       "      <td>د</td>\n",
       "      <td>الطويل</td>\n",
       "      <td>تُؤامِرُني سِرّاً لِأَصرِمَ مَرثَدا</td>\n",
       "      <td>لَعَمرُكَ ما نَفسٌ بِجِدٍ رَشيدَةٍ</td>\n",
       "    </tr>\n",
       "    <tr>\n",
       "      <th>4</th>\n",
       "      <td>قبل الإسلام</td>\n",
       "      <td>عمرو بنِ قُمَيئَة</td>\n",
       "      <td>الديوان الرئيسي</td>\n",
       "      <td>د</td>\n",
       "      <td>الطويل</td>\n",
       "      <td>وَأَفرَعَ في لَومي مِراراً وَأَصعَدا</td>\n",
       "      <td>وَإِن ظَهَرَت مِنهُ قَوارِصُ جَمَّةٌ</td>\n",
       "    </tr>\n",
       "  </tbody>\n",
       "</table>\n",
       "</div>"
      ],
      "text/plain": [
       "         العصر             الشاعر          الديوان القافية   البحر  \\\n",
       "0  قبل الإسلام  عمرو بنِ قُمَيئَة  الديوان الرئيسي       د  الطويل   \n",
       "1  قبل الإسلام  عمرو بنِ قُمَيئَة  الديوان الرئيسي       د  الطويل   \n",
       "2  قبل الإسلام  عمرو بنِ قُمَيئَة  الديوان الرئيسي       د  الطويل   \n",
       "3  قبل الإسلام  عمرو بنِ قُمَيئَة  الديوان الرئيسي       د  الطويل   \n",
       "4  قبل الإسلام  عمرو بنِ قُمَيئَة  الديوان الرئيسي       د  الطويل   \n",
       "\n",
       "                            الشطر الايسر  \\\n",
       "0   وَأَن تَجمَعا شَملي وَتَنتَظِرا غَدا   \n",
       "1  وَلا سُرعَتي يَوماً بِسابِقَةِ الرَدى   \n",
       "2  وَتَستَوجِبا مَنّاً عَلَيَّ وَتُحمَدا   \n",
       "3    تُؤامِرُني سِرّاً لِأَصرِمَ مَرثَدا   \n",
       "4   وَأَفرَعَ في لَومي مِراراً وَأَصعَدا   \n",
       "\n",
       "                             الشطر الايمن  \n",
       "0   خَليلَيَّ لا تَستَعجِلا أَن تَزَوَّدا  \n",
       "1     فَما لَبَثٌ يَوماً بِسابِقٍ مَغنَمٍ  \n",
       "2  وَإِن تُنظِراني اليَومَ أَقضِ لُبانَةً  \n",
       "3      لَعَمرُكَ ما نَفسٌ بِجِدٍ رَشيدَةٍ  \n",
       "4    وَإِن ظَهَرَت مِنهُ قَوارِصُ جَمَّةٌ  "
      ]
     },
     "execution_count": 51,
     "metadata": {},
     "output_type": "execute_result"
    }
   ],
   "source": [
    "Arabic_poem_reduced.head()"
   ]
  },
  {
   "cell_type": "code",
   "execution_count": 52,
   "id": "460672a2",
   "metadata": {},
   "outputs": [
    {
     "data": {
      "text/plain": [
       "(1048574, 7)"
      ]
     },
     "execution_count": 52,
     "metadata": {},
     "output_type": "execute_result"
    }
   ],
   "source": [
    "Arabic_poem_reduced.shape"
   ]
  },
  {
   "cell_type": "code",
   "execution_count": 53,
   "id": "2608b34b",
   "metadata": {},
   "outputs": [
    {
     "data": {
      "text/html": [
       "<div>\n",
       "<style scoped>\n",
       "    .dataframe tbody tr th:only-of-type {\n",
       "        vertical-align: middle;\n",
       "    }\n",
       "\n",
       "    .dataframe tbody tr th {\n",
       "        vertical-align: top;\n",
       "    }\n",
       "\n",
       "    .dataframe thead th {\n",
       "        text-align: right;\n",
       "    }\n",
       "</style>\n",
       "<table border=\"1\" class=\"dataframe\">\n",
       "  <thead>\n",
       "    <tr style=\"text-align: right;\">\n",
       "      <th></th>\n",
       "      <th>البحر</th>\n",
       "      <th>الشطر الايسر</th>\n",
       "      <th>الشطر الايمن</th>\n",
       "    </tr>\n",
       "  </thead>\n",
       "  <tbody>\n",
       "    <tr>\n",
       "      <th>0</th>\n",
       "      <td>الطويل</td>\n",
       "      <td>وَأَن تَجمَعا شَملي وَتَنتَظِرا غَدا</td>\n",
       "      <td>خَليلَيَّ لا تَستَعجِلا أَن تَزَوَّدا</td>\n",
       "    </tr>\n",
       "    <tr>\n",
       "      <th>1</th>\n",
       "      <td>الطويل</td>\n",
       "      <td>وَلا سُرعَتي يَوماً بِسابِقَةِ الرَدى</td>\n",
       "      <td>فَما لَبَثٌ يَوماً بِسابِقٍ مَغنَمٍ</td>\n",
       "    </tr>\n",
       "    <tr>\n",
       "      <th>2</th>\n",
       "      <td>الطويل</td>\n",
       "      <td>وَتَستَوجِبا مَنّاً عَلَيَّ وَتُحمَدا</td>\n",
       "      <td>وَإِن تُنظِراني اليَومَ أَقضِ لُبانَةً</td>\n",
       "    </tr>\n",
       "    <tr>\n",
       "      <th>3</th>\n",
       "      <td>الطويل</td>\n",
       "      <td>تُؤامِرُني سِرّاً لِأَصرِمَ مَرثَدا</td>\n",
       "      <td>لَعَمرُكَ ما نَفسٌ بِجِدٍ رَشيدَةٍ</td>\n",
       "    </tr>\n",
       "    <tr>\n",
       "      <th>4</th>\n",
       "      <td>الطويل</td>\n",
       "      <td>وَأَفرَعَ في لَومي مِراراً وَأَصعَدا</td>\n",
       "      <td>وَإِن ظَهَرَت مِنهُ قَوارِصُ جَمَّةٌ</td>\n",
       "    </tr>\n",
       "  </tbody>\n",
       "</table>\n",
       "</div>"
      ],
      "text/plain": [
       "    البحر                           الشطر الايسر  \\\n",
       "0  الطويل   وَأَن تَجمَعا شَملي وَتَنتَظِرا غَدا   \n",
       "1  الطويل  وَلا سُرعَتي يَوماً بِسابِقَةِ الرَدى   \n",
       "2  الطويل  وَتَستَوجِبا مَنّاً عَلَيَّ وَتُحمَدا   \n",
       "3  الطويل    تُؤامِرُني سِرّاً لِأَصرِمَ مَرثَدا   \n",
       "4  الطويل   وَأَفرَعَ في لَومي مِراراً وَأَصعَدا   \n",
       "\n",
       "                             الشطر الايمن  \n",
       "0   خَليلَيَّ لا تَستَعجِلا أَن تَزَوَّدا  \n",
       "1     فَما لَبَثٌ يَوماً بِسابِقٍ مَغنَمٍ  \n",
       "2  وَإِن تُنظِراني اليَومَ أَقضِ لُبانَةً  \n",
       "3      لَعَمرُكَ ما نَفسٌ بِجِدٍ رَشيدَةٍ  \n",
       "4    وَإِن ظَهَرَت مِنهُ قَوارِصُ جَمَّةٌ  "
      ]
     },
     "execution_count": 53,
     "metadata": {},
     "output_type": "execute_result"
    }
   ],
   "source": [
    "Arabic_poem_reduced = Arabic_poem_reduced.dropna()\n",
    "Arabic_poem_reduced = Arabic_poem_reduced.drop(['العصر','الشاعر','الديوان','القافية'], axis=1)\n",
    "Arabic_poem_reduced = Arabic_poem_reduced.drop_duplicates()\n",
    "Arabic_poem_reduced = Arabic_poem_reduced.reset_index(drop=True)\n",
    "Arabic_poem_reduced.head()"
   ]
  },
  {
   "cell_type": "code",
   "execution_count": 55,
   "id": "394380f2",
   "metadata": {},
   "outputs": [],
   "source": [
    "df1 = Arabic_poem_reduced[[\"الشطر الايمن\", \"البحر\"]]\n",
    "df2 = Arabic_poem_reduced[[\"الشطر الايسر\", \"البحر\"]]\n",
    "\n",
    "# Rename columns for concatenation\n",
    "df1.columns = [\"الشطر\", \"البحر\"]\n",
    "df2.columns = [\"الشطر\", \"البحر\"]\n",
    "\n",
    "# Concatenate the dataframes\n",
    "concatenated_df = pd.concat([df1, df2])"
   ]
  },
  {
   "cell_type": "code",
   "execution_count": 56,
   "id": "590b927f",
   "metadata": {},
   "outputs": [
    {
     "data": {
      "text/html": [
       "<div>\n",
       "<style scoped>\n",
       "    .dataframe tbody tr th:only-of-type {\n",
       "        vertical-align: middle;\n",
       "    }\n",
       "\n",
       "    .dataframe tbody tr th {\n",
       "        vertical-align: top;\n",
       "    }\n",
       "\n",
       "    .dataframe thead th {\n",
       "        text-align: right;\n",
       "    }\n",
       "</style>\n",
       "<table border=\"1\" class=\"dataframe\">\n",
       "  <thead>\n",
       "    <tr style=\"text-align: right;\">\n",
       "      <th></th>\n",
       "      <th>الشطر</th>\n",
       "      <th>البحر</th>\n",
       "    </tr>\n",
       "  </thead>\n",
       "  <tbody>\n",
       "    <tr>\n",
       "      <th>0</th>\n",
       "      <td>خَليلَيَّ لا تَستَعجِلا أَن تَزَوَّدا</td>\n",
       "      <td>الطويل</td>\n",
       "    </tr>\n",
       "    <tr>\n",
       "      <th>1</th>\n",
       "      <td>فَما لَبَثٌ يَوماً بِسابِقٍ مَغنَمٍ</td>\n",
       "      <td>الطويل</td>\n",
       "    </tr>\n",
       "    <tr>\n",
       "      <th>2</th>\n",
       "      <td>وَإِن تُنظِراني اليَومَ أَقضِ لُبانَةً</td>\n",
       "      <td>الطويل</td>\n",
       "    </tr>\n",
       "    <tr>\n",
       "      <th>3</th>\n",
       "      <td>لَعَمرُكَ ما نَفسٌ بِجِدٍ رَشيدَةٍ</td>\n",
       "      <td>الطويل</td>\n",
       "    </tr>\n",
       "    <tr>\n",
       "      <th>4</th>\n",
       "      <td>وَإِن ظَهَرَت مِنهُ قَوارِصُ جَمَّةٌ</td>\n",
       "      <td>الطويل</td>\n",
       "    </tr>\n",
       "  </tbody>\n",
       "</table>\n",
       "</div>"
      ],
      "text/plain": [
       "                                    الشطر   البحر\n",
       "0   خَليلَيَّ لا تَستَعجِلا أَن تَزَوَّدا  الطويل\n",
       "1     فَما لَبَثٌ يَوماً بِسابِقٍ مَغنَمٍ  الطويل\n",
       "2  وَإِن تُنظِراني اليَومَ أَقضِ لُبانَةً  الطويل\n",
       "3      لَعَمرُكَ ما نَفسٌ بِجِدٍ رَشيدَةٍ  الطويل\n",
       "4    وَإِن ظَهَرَت مِنهُ قَوارِصُ جَمَّةٌ  الطويل"
      ]
     },
     "execution_count": 56,
     "metadata": {},
     "output_type": "execute_result"
    }
   ],
   "source": [
    "concatenated_df.head()"
   ]
  },
  {
   "cell_type": "code",
   "execution_count": 57,
   "id": "a26e8dee",
   "metadata": {},
   "outputs": [
    {
     "data": {
      "text/plain": [
       "(2095358, 2)"
      ]
     },
     "execution_count": 57,
     "metadata": {},
     "output_type": "execute_result"
    }
   ],
   "source": [
    "concatenated_df.shape"
   ]
  },
  {
   "cell_type": "code",
   "execution_count": 58,
   "id": "80ff74bd",
   "metadata": {},
   "outputs": [],
   "source": [
    "# save the dataframe to a csv file\n",
    "concatenated_df.to_csv('meter.csv', index=False)"
   ]
  }
 ],
 "metadata": {
  "kernelspec": {
   "display_name": "Python 3 (ipykernel)",
   "language": "python",
   "name": "python3"
  },
  "language_info": {
   "codemirror_mode": {
    "name": "ipython",
    "version": 3
   },
   "file_extension": ".py",
   "mimetype": "text/x-python",
   "name": "python",
   "nbconvert_exporter": "python",
   "pygments_lexer": "ipython3",
   "version": "3.11.7"
  }
 },
 "nbformat": 4,
 "nbformat_minor": 5
}
